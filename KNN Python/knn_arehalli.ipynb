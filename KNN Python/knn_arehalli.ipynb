{
 "cells": [
  {
   "cell_type": "markdown",
   "metadata": {},
   "source": [
    "The 3 libraries that are used are numpy, statistics, and math:"
   ]
  },
  {
   "cell_type": "code",
   "execution_count": 1,
   "metadata": {
    "ExecuteTime": {
     "end_time": "2018-06-17T23:15:16.346075Z",
     "start_time": "2018-06-17T23:15:16.132040Z"
    }
   },
   "outputs": [],
   "source": [
    "import numpy as np\n",
    "import statistics as stats\n",
    "import math"
   ]
  },
  {
   "cell_type": "markdown",
   "metadata": {},
   "source": [
    "The populateXarray and populateYarray function load data from the training and test CSV files and use it to populate numpy arrays. populateXarray is used to load feature data and reads the first 4 columns of the csv files, while populateYarray is used to load the classes and reads the 5th column of the csv files."
   ]
  },
  {
   "cell_type": "code",
   "execution_count": 2,
   "metadata": {
    "ExecuteTime": {
     "end_time": "2018-06-17T23:15:17.824268Z",
     "start_time": "2018-06-17T23:15:17.819446Z"
    }
   },
   "outputs": [],
   "source": [
    "def populateXArray(filename):\n",
    "    array=np.loadtxt(filename, delimiter=\",\", usecols=(0,1,2,3),skiprows=1)\n",
    "    return array\n",
    "\n",
    "def populateYArray(filename):\n",
    "    array= array=np.loadtxt(filename, delimiter=\",\", usecols=(4), skiprows=1)\n",
    "    return array"
   ]
  },
  {
   "cell_type": "markdown",
   "metadata": {},
   "source": [
    "The distance function calculates the distance between 2 points in 4 dimensions."
   ]
  },
  {
   "cell_type": "code",
   "execution_count": 3,
   "metadata": {
    "ExecuteTime": {
     "end_time": "2018-06-17T23:15:19.067870Z",
     "start_time": "2018-06-17T23:15:19.062422Z"
    }
   },
   "outputs": [],
   "source": [
    "def distance(point1, point2):\n",
    "    distance= math.sqrt((point1[0]-point2[0])**2 + (point1[1]-point2[1])**2 \n",
    "                        +(point1[2]-point2[2])**2 + (point1[3]-point2[3])**2)\n",
    "    return distance"
   ]
  },
  {
   "cell_type": "markdown",
   "metadata": {},
   "source": [
    "The classify function iterates through the Xtest array. For each value in Xtest, it calculates the distance from all of the entries in the X array of training data and stores them in a list. It then finds the k lowest values and stores them in a separate list. The index values for the smallest distances in dictionary are used to find the corresponding species values in the Y training dataset and the k species values are recorded in the classes list. By finding the statistical mode of classes, the function calculates the result of k-nearest-neighbors. That value is written to an output file and stored in an output array."
   ]
  },
  {
   "cell_type": "code",
   "execution_count": 4,
   "metadata": {
    "ExecuteTime": {
     "end_time": "2018-06-17T23:15:20.312228Z",
     "start_time": "2018-06-17T23:15:20.304669Z"
    }
   },
   "outputs": [],
   "source": [
    "def classify(Xtrain, Xtest, Ytrain, outputfile, outputArray,k):\n",
    "    output= open(outputfile,'w')\n",
    "    for i in range(20):\n",
    "        distances=[]\n",
    "        for j in range(80):\n",
    "            distances.append(distance(Xtest[i],Xtrain[j]))\n",
    "        nearest= sorted(distances)[:k]\n",
    "        index=[]\n",
    "        for num in nearest:\n",
    "            index.append(distances.index(num))\n",
    "        classes= []\n",
    "        for num in index:\n",
    "            classes.append(Ytrain[num])\n",
    "        result=stats.mode(classes) \n",
    "        outputArray[i]= result\n",
    "        output.write(str(result))"
   ]
  },
  {
   "cell_type": "markdown",
   "metadata": {},
   "source": [
    "getConfusionMatrix calculates the true negative, true positive, false positive, and false negative values by comparing the output array from the classify function to Ytest. It returns a confusion matrix in the form of a 2x2 numpy array"
   ]
  },
  {
   "cell_type": "code",
   "execution_count": 5,
   "metadata": {
    "ExecuteTime": {
     "end_time": "2018-06-17T23:15:21.742373Z",
     "start_time": "2018-06-17T23:15:21.735683Z"
    }
   },
   "outputs": [],
   "source": [
    "def getConfusionMatrix(Yhat, Ytest):\n",
    "    T0=0\n",
    "    T1=0\n",
    "    F0=0\n",
    "    F1=0\n",
    "    \n",
    "    for i in range (20):\n",
    "        if Ytest[i]==0 and Yhat[i]==0:\n",
    "            T0 += 1\n",
    "        elif Ytest[i]==1 and Yhat[i]==1:\n",
    "            T1 += 1\n",
    "        elif Ytest[i]==1 and Yhat[i]==0:\n",
    "            F0 +=1\n",
    "        elif Ytest[i]==0 and Yhat[i]==1:\n",
    "            F1 +=1\n",
    "    confusionmatrix= np.array([[T0,F1], [F0, T1]])\n",
    "    return confusionmatrix"
   ]
  },
  {
   "cell_type": "markdown",
   "metadata": {},
   "source": [
    "the knearestneighbor function takes 4 inputs, a string filename for the training data, a string filename for the test data, a string filename for the output file, and a value k, which determines how many nearest neighbors to include when classifying the datapoint. "
   ]
  },
  {
   "cell_type": "code",
   "execution_count": 6,
   "metadata": {
    "ExecuteTime": {
     "end_time": "2018-06-17T23:15:23.689667Z",
     "start_time": "2018-06-17T23:15:23.684885Z"
    }
   },
   "outputs": [],
   "source": [
    "def knearestneighbor(trainfile, testfile, outputfile, k):\n",
    "\n",
    "    X= populateXArray(trainfile)\n",
    "    Y= populateYArray(trainfile)\n",
    "    Xtest= populateXArray(testfile)\n",
    "    Ytest= populateYArray(testfile)\n",
    "    Yhat=np.zeros((20))\n",
    "    \n",
    "    classify(X, Xtest, Y, outputfile, Yhat, k)\n",
    "    \n",
    "    confusionmatrix = getConfusionMatrix(Yhat, Ytest)\n",
    "    \n",
    "    return confusionmatrix\n"
   ]
  },
  {
   "cell_type": "code",
   "execution_count": 7,
   "metadata": {
    "ExecuteTime": {
     "end_time": "2018-06-17T23:15:24.659898Z",
     "start_time": "2018-06-17T23:15:24.582168Z"
    }
   },
   "outputs": [
    {
     "data": {
      "text/plain": [
       "array([[10,  0],\n",
       "       [ 0, 10]])"
      ]
     },
     "execution_count": 7,
     "metadata": {},
     "output_type": "execute_result"
    }
   ],
   "source": [
    "knearestneighbor(\"iristrain.csv\", \"iristest.csv\", \"result.txt\", 3)"
   ]
  }
 ],
 "metadata": {
  "kernelspec": {
   "display_name": "Python 3",
   "language": "python",
   "name": "python3"
  },
  "language_info": {
   "codemirror_mode": {
    "name": "ipython",
    "version": 3
   },
   "file_extension": ".py",
   "mimetype": "text/x-python",
   "name": "python",
   "nbconvert_exporter": "python",
   "pygments_lexer": "ipython3",
   "version": "3.6.5"
  }
 },
 "nbformat": 4,
 "nbformat_minor": 2
}
