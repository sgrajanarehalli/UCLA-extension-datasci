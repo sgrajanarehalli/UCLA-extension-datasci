{
 "cells": [
  {
   "cell_type": "code",
   "execution_count": null,
   "metadata": {
    "ExecuteTime": {
     "end_time": "2018-04-23T03:40:38.117572Z",
     "start_time": "2018-04-23T03:40:38.067230Z"
    }
   },
   "outputs": [],
   "source": [
    "#The json module has functions that allow you to read json files into python data structures like lists and dicts\n",
    "import json"
   ]
  },
  {
   "cell_type": "code",
   "execution_count": null,
   "metadata": {
    "ExecuteTime": {
     "end_time": "2018-04-23T03:40:39.545800Z",
     "start_time": "2018-04-23T03:40:38.808991Z"
    }
   },
   "outputs": [],
   "source": [
    "#Use the json module to open the raw json data and convert it into a list of python dicts\n",
    "jsonData = open('pizza_request_dataset.json', 'r')\n",
    "pizza_data = json.load(jsonData)\n",
    "jsonData.close()"
   ]
  },
  {
   "cell_type": "code",
   "execution_count": null,
   "metadata": {
    "ExecuteTime": {
     "end_time": "2018-04-23T03:40:39.560647Z",
     "start_time": "2018-04-23T03:40:39.549349Z"
    }
   },
   "outputs": [],
   "source": [
    "#Create a subset of pizza_data by slicing the list\n",
    "pizza_subset= pizza_data[:100]"
   ]
  },
  {
   "cell_type": "code",
   "execution_count": null,
   "metadata": {
    "ExecuteTime": {
     "end_time": "2018-04-23T03:40:40.447742Z",
     "start_time": "2018-04-23T03:40:40.378279Z"
    }
   },
   "outputs": [],
   "source": [
    "#Export the sliced subset into its own json file. This can be opened again and parsed into a list of dicts using json.load\n",
    "with open('pizza_request_subset.json', 'w') as pizza_request_subset:\n",
    "    json.dump(pizza_subset, pizza_request_subset)\n",
    "    pizza_request_subset.close()"
   ]
  },
  {
   "cell_type": "code",
   "execution_count": null,
   "metadata": {
    "ExecuteTime": {
     "end_time": "2018-04-23T03:40:41.110987Z",
     "start_time": "2018-04-23T03:40:41.077255Z"
    }
   },
   "outputs": [],
   "source": [
    "#The scroll function pretty-prints the entry at the current index to the console, then prompts for user input. \n",
    "#If the user input is 'n', the index is increased by 1 and scroll is called again.\n",
    "#If the user input is 'b', the index is decreased by 1 and scroll is called again.\n",
    "#If the user input is 'q', they exit out of the program\n",
    "#If user input is invalid, scroll is called again with no change to the index, so the same entry is displayed\n",
    "#If the user reaches the last entry and scrolls to the next entry, they will be redirected to the first entry\n",
    "#If the user reaches the first entry and scrolls backwards, they will be taken to entry #100\n",
    "def scroll(index,data):\n",
    "    print(\"\\n\\nDisplaying entry \"+ str(index+1)+ \" out of 100\")\n",
    "    print(json.dumps(data[index], indent=4))\n",
    "    response=input(\"Press 'n' for next entry or 'b' for previous entry, or 'q' to exit, then press enter.\")\n",
    "    if response== 'q':\n",
    "        return\n",
    "    else:\n",
    "        if index!=0 and index!=99:\n",
    "            if response=='n':\n",
    "                index+=1\n",
    "                scroll(index,data)\n",
    "            elif response=='b':\n",
    "                index-=1\n",
    "                scroll(index,data)\n",
    "            else:\n",
    "                print(\"Invalid Input\")\n",
    "                scroll(index,data)\n",
    "        elif index==0:\n",
    "            if response=='n':\n",
    "                index+=1\n",
    "                scroll(index,data)\n",
    "            elif response=='b':\n",
    "                index = 99\n",
    "                scroll(index,data)\n",
    "            else:\n",
    "                print(\"Invalid Input\")\n",
    "                scroll(index,data)\n",
    "        elif index==99:\n",
    "            if response=='n':\n",
    "                index=0\n",
    "                scroll(index,data)\n",
    "            elif response=='b':\n",
    "                index-=1\n",
    "                scroll(index,data)\n",
    "            else:\n",
    "                print(\"Invalid Input\")\n",
    "                scroll(index,data)"
   ]
  },
  {
   "cell_type": "code",
   "execution_count": null,
   "metadata": {
    "ExecuteTime": {
     "end_time": "2018-04-23T03:41:28.199827Z",
     "start_time": "2018-04-23T03:40:48.604536Z"
    }
   },
   "outputs": [],
   "source": [
    "#The starting index is set to 0 before the scroll function is called.\n",
    "index = 0\n",
    "scroll(index, pizza_subset)\n",
    "    \n",
    "    "
   ]
  },
  {
   "cell_type": "code",
   "execution_count": null,
   "metadata": {},
   "outputs": [],
   "source": []
  }
 ],
 "metadata": {
  "kernelspec": {
   "display_name": "Python 3",
   "language": "python",
   "name": "python3"
  },
  "language_info": {
   "codemirror_mode": {
    "name": "ipython",
    "version": 3
   },
   "file_extension": ".py",
   "mimetype": "text/x-python",
   "name": "python",
   "nbconvert_exporter": "python",
   "pygments_lexer": "ipython3",
   "version": "3.6.5"
  }
 },
 "nbformat": 4,
 "nbformat_minor": 2
}
