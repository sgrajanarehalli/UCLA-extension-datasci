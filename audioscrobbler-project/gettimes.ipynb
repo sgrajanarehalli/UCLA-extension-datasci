{
 "cells": [
  {
   "cell_type": "markdown",
   "metadata": {},
   "source": [
    "Import numpy:"
   ]
  },
  {
   "cell_type": "code",
   "execution_count": null,
   "metadata": {
    "ExecuteTime": {
     "end_time": "2019-02-10T22:40:55.389109Z",
     "start_time": "2019-02-10T22:40:53.232616Z"
    }
   },
   "outputs": [],
   "source": [
    "import numpy as np"
   ]
  },
  {
   "cell_type": "markdown",
   "metadata": {},
   "source": [
    "Create dicts of userIDs and artistIDS which will be used for indexing:"
   ]
  },
  {
   "cell_type": "code",
   "execution_count": null,
   "metadata": {
    "ExecuteTime": {
     "end_time": "2019-02-10T22:40:56.976881Z",
     "start_time": "2019-02-10T22:40:56.971685Z"
    }
   },
   "outputs": [],
   "source": [
    "userdict= {}\n",
    "artistdict={}"
   ]
  },
  {
   "cell_type": "markdown",
   "metadata": {
    "ExecuteTime": {
     "end_time": "2018-04-25T05:39:42.217954Z",
     "start_time": "2018-04-25T05:39:35.620Z"
    }
   },
   "source": [
    "Read data from file into user and artist lists:"
   ]
  },
  {
   "cell_type": "code",
   "execution_count": null,
   "metadata": {
    "ExecuteTime": {
     "end_time": "2019-02-10T22:41:19.112135Z",
     "start_time": "2019-02-10T22:40:58.509518Z"
    }
   },
   "outputs": [],
   "source": [
    "user_artist_data= open('user_artist_data.txt', 'r')\n",
    "userindex=0\n",
    "artistindex=0\n",
    "for line in user_artist_data:\n",
    "    buffer=line.split()\n",
    "    if buffer[0] not in userdict:\n",
    "        userdict.update({buffer[0]:userindex})\n",
    "        userindex+=1\n",
    "    if buffer[1] not in artistdict:\n",
    "        artistdict.update({buffer[1]:artistindex})\n",
    "        artistindex+=1\n",
    "user_artist_data.close()"
   ]
  },
  {
   "cell_type": "markdown",
   "metadata": {},
   "source": [
    "Get the lengths of the lists\n",
    "to determine how many rows and columns the matrix will have:"
   ]
  },
  {
   "cell_type": "code",
   "execution_count": null,
   "metadata": {
    "ExecuteTime": {
     "end_time": "2019-02-10T22:41:19.123286Z",
     "start_time": "2019-02-10T22:41:19.114782Z"
    }
   },
   "outputs": [],
   "source": [
    "rows =len(userdict)\n",
    "columns= len(artistdict)\n",
    "print (rows, columns, sep=\" \")\n"
   ]
  },
  {
   "cell_type": "markdown",
   "metadata": {},
   "source": [
    "Build a matrix of zeroes using the number of users for rows and the number of artists for columns:"
   ]
  },
  {
   "cell_type": "code",
   "execution_count": null,
   "metadata": {
    "ExecuteTime": {
     "end_time": "2019-02-10T22:41:23.714895Z",
     "start_time": "2019-02-10T22:41:23.704406Z"
    }
   },
   "outputs": [],
   "source": [
    "userArtistsTime = np.zeros((rows, columns), dtype=np.int64)\n",
    "print(userArtistsTime.shape)"
   ]
  },
  {
   "cell_type": "markdown",
   "metadata": {},
   "source": [
    "Fill in the matrix. Use np.where to find the index of the IDs in user_array and artist_array. Then read in \n",
    "the playcounts from the file. Skip this cell if loading matrix from file. :"
   ]
  },
  {
   "cell_type": "code",
   "execution_count": null,
   "metadata": {
    "ExecuteTime": {
     "start_time": "2019-02-10T22:41:25.664Z"
    }
   },
   "outputs": [],
   "source": [
    "user_artist_data= open('user_artist_data.txt', 'r')\n",
    "for line in user_artist_data:\n",
    "    buffer=line.split()\n",
    "    i= userdict[buffer[0]]\n",
    "    j= artistdict[buffer[1]]\n",
    "    userArtistsTime[i,j]= buffer[2]\n",
    "user_artist_data.close()"
   ]
  },
  {
   "cell_type": "markdown",
   "metadata": {},
   "source": [
    "Export matrix to file so that you only have to build it once"
   ]
  },
  {
   "cell_type": "code",
   "execution_count": null,
   "metadata": {
    "ExecuteTime": {
     "start_time": "2019-02-10T22:41:33.081Z"
    }
   },
   "outputs": [],
   "source": [
    "np.save('userArtistsTime.npy', userArtistsTime)"
   ]
  },
  {
   "cell_type": "markdown",
   "metadata": {
    "ExecuteTime": {
     "end_time": "2019-02-10T22:40:42.937364Z",
     "start_time": "2019-02-10T22:40:42.933284Z"
    }
   },
   "source": [
    "Use this cell to load matrix from file, if available"
   ]
  },
  {
   "cell_type": "code",
   "execution_count": null,
   "metadata": {
    "ExecuteTime": {
     "end_time": "2019-02-10T22:40:43.936702Z",
     "start_time": "2019-02-10T22:40:43.926953Z"
    }
   },
   "outputs": [],
   "source": [
    "userArtistsTime= np.load('userArtistsTime.npy')"
   ]
  },
  {
   "cell_type": "markdown",
   "metadata": {},
   "source": [
    "Next, define a function which returns the number of times a given user listened to a given artist:"
   ]
  },
  {
   "cell_type": "code",
   "execution_count": null,
   "metadata": {
    "ExecuteTime": {
     "end_time": "2018-06-05T18:19:14.293401Z",
     "start_time": "2018-06-05T18:19:14.275608Z"
    }
   },
   "outputs": [],
   "source": [
    "def getTimesforUserXArtistY(userID, artistID):\n",
    "    i = userdict[str(userID)]\n",
    "    j = artistdict[str(artistID)]\n",
    "    timesListened = userArtistsTime[i, j]\n",
    "    return timesListened"
   ]
  },
  {
   "cell_type": "markdown",
   "metadata": {},
   "source": [
    "Test the function using the parameter"
   ]
  },
  {
   "cell_type": "code",
   "execution_count": null,
   "metadata": {
    "ExecuteTime": {
     "end_time": "2018-06-05T18:19:14.322034Z",
     "start_time": "2018-06-05T18:19:14.299845Z"
    }
   },
   "outputs": [],
   "source": [
    "uid = 1000022\n",
    "\n",
    "aid = 1001223\n",
    "\n",
    "times = getTimesforUserXArtistY(uid, aid)\n",
    "\n",
    "print(\"User \"+ str(uid) + \" listened to artist \" + str(aid) + \" \"+ str(times)+ \" times.\")"
   ]
  },
  {
   "cell_type": "code",
   "execution_count": null,
   "metadata": {},
   "outputs": [],
   "source": []
  }
 ],
 "metadata": {
  "kernelspec": {
   "display_name": "Python 3",
   "language": "python",
   "name": "python3"
  },
  "language_info": {
   "codemirror_mode": {
    "name": "ipython",
    "version": 3
   },
   "file_extension": ".py",
   "mimetype": "text/x-python",
   "name": "python",
   "nbconvert_exporter": "python",
   "pygments_lexer": "ipython3",
   "version": "3.6.4"
  }
 },
 "nbformat": 4,
 "nbformat_minor": 2
}
