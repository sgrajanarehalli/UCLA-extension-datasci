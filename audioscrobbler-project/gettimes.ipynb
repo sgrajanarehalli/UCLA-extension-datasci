{
 "cells": [
  {
   "cell_type": "markdown",
   "metadata": {},
   "source": [
    "Import numpy:"
   ]
  },
  {
   "cell_type": "code",
   "execution_count": 9,
   "metadata": {
    "ExecuteTime": {
     "end_time": "2018-06-05T18:17:29.266232Z",
     "start_time": "2018-06-05T18:17:29.158765Z"
    }
   },
   "outputs": [],
   "source": [
    "import numpy as np"
   ]
  },
  {
   "cell_type": "markdown",
   "metadata": {},
   "source": [
    "Create dicts of userIDs and artistIDS which will be used for indexing:"
   ]
  },
  {
   "cell_type": "code",
   "execution_count": 10,
   "metadata": {
    "ExecuteTime": {
     "end_time": "2018-06-05T18:17:32.643139Z",
     "start_time": "2018-06-05T18:17:30.454007Z"
    }
   },
   "outputs": [],
   "source": [
    "userdict= {}\n",
    "artistdict={}"
   ]
  },
  {
   "cell_type": "markdown",
   "metadata": {
    "ExecuteTime": {
     "end_time": "2018-04-25T05:39:42.217954Z",
     "start_time": "2018-04-25T05:39:35.620Z"
    }
   },
   "source": [
    "Read data from file into user and artist lists:"
   ]
  },
  {
   "cell_type": "code",
   "execution_count": 11,
   "metadata": {
    "ExecuteTime": {
     "end_time": "2018-06-05T18:17:58.833885Z",
     "start_time": "2018-06-05T18:17:32.978432Z"
    }
   },
   "outputs": [],
   "source": [
    "user_artist_data= open('user_artist_data.txt', 'r')\n",
    "userindex=0\n",
    "artistindex=0\n",
    "for line in user_artist_data:\n",
    "    buffer=line.split()\n",
    "    if buffer[0] not in userdict:\n",
    "        userdict.update({buffer[0]:userindex})\n",
    "        userindex+=1\n",
    "    if buffer[1] not in artistdict:\n",
    "        artistdict.update({buffer[1]:artistindex})\n",
    "        artistindex+=1\n",
    "user_artist_data.close()"
   ]
  },
  {
   "cell_type": "markdown",
   "metadata": {},
   "source": [
    "Get the lengths of the lists\n",
    "to determine how many rows and columns the matrix will have:"
   ]
  },
  {
   "cell_type": "code",
   "execution_count": 12,
   "metadata": {
    "ExecuteTime": {
     "end_time": "2018-06-05T18:17:58.852970Z",
     "start_time": "2018-06-05T18:17:58.840182Z"
    }
   },
   "outputs": [
    {
     "name": "stdout",
     "output_type": "stream",
     "text": [
      "148111 1631028\n"
     ]
    }
   ],
   "source": [
    "rows =len(userdict)\n",
    "columns= len(artistdict)\n",
    "print (rows, columns, sep=\" \")\n"
   ]
  },
  {
   "cell_type": "markdown",
   "metadata": {},
   "source": [
    "Build a matrix of zeroes using the number of users for rows and the number of artists for columns:"
   ]
  },
  {
   "cell_type": "code",
   "execution_count": 13,
   "metadata": {
    "ExecuteTime": {
     "end_time": "2018-06-05T18:18:01.696767Z",
     "start_time": "2018-06-05T18:17:58.857137Z"
    }
   },
   "outputs": [
    {
     "name": "stdout",
     "output_type": "stream",
     "text": [
      "(148111, 1631028)\n"
     ]
    }
   ],
   "source": [
    "userArtistsTime = np.zeros((rows, columns), dtype=np.int64)\n",
    "print(userArtistsTime.shape)"
   ]
  },
  {
   "cell_type": "markdown",
   "metadata": {},
   "source": [
    "Fill in the matrix. Use np.where to find the index of the IDs in user_array and artist_array. Then read in \n",
    "the playcounts from the file. Skip this cell if loading matrix from file. :"
   ]
  },
  {
   "cell_type": "code",
   "execution_count": 14,
   "metadata": {
    "ExecuteTime": {
     "end_time": "2018-06-05T18:19:14.263289Z",
     "start_time": "2018-06-05T18:18:01.700600Z"
    }
   },
   "outputs": [],
   "source": [
    "user_artist_data= open('user_artist_data.txt', 'r')\n",
    "for line in user_artist_data:\n",
    "    buffer=line.split()\n",
    "    i= userdict[buffer[0]]\n",
    "    j= artistdict[buffer[1]]\n",
    "    userArtistsTime[i,j]= buffer[2]\n",
    "user_artist_data.close()"
   ]
  },
  {
   "cell_type": "markdown",
   "metadata": {},
   "source": [
    "Next, define a function which returns the number of times a given user listened to a given artist:"
   ]
  },
  {
   "cell_type": "code",
   "execution_count": 15,
   "metadata": {
    "ExecuteTime": {
     "end_time": "2018-06-05T18:19:14.293401Z",
     "start_time": "2018-06-05T18:19:14.275608Z"
    }
   },
   "outputs": [],
   "source": [
    "def getTimesforUserXArtistY(userID, artistID):\n",
    "    i = userdict[str(userID)]\n",
    "    j = artistdict[str(artistID)]\n",
    "    timesListened = userArtistsTime[i, j]\n",
    "    return timesListened"
   ]
  },
  {
   "cell_type": "markdown",
   "metadata": {},
   "source": [
    "Test the function using the parameter"
   ]
  },
  {
   "cell_type": "code",
   "execution_count": 16,
   "metadata": {
    "ExecuteTime": {
     "end_time": "2018-06-05T18:19:14.322034Z",
     "start_time": "2018-06-05T18:19:14.299845Z"
    }
   },
   "outputs": [
    {
     "name": "stdout",
     "output_type": "stream",
     "text": [
      "User 1000022 listened to artist 1001223 15 times.\n"
     ]
    }
   ],
   "source": [
    "uid = 1000022\n",
    "\n",
    "aid = 1001223\n",
    "\n",
    "times = getTimesforUserXArtistY(uid, aid)\n",
    "\n",
    "print(\"User \"+ str(uid) + \" listened to artist \" + str(aid) + \" \"+ str(times)+ \" times.\")"
   ]
  },
  {
   "cell_type": "code",
   "execution_count": null,
   "metadata": {},
   "outputs": [],
   "source": []
  }
 ],
 "metadata": {
  "kernelspec": {
   "display_name": "Python 3",
   "language": "python",
   "name": "python3"
  },
  "language_info": {
   "codemirror_mode": {
    "name": "ipython",
    "version": 3
   },
   "file_extension": ".py",
   "mimetype": "text/x-python",
   "name": "python",
   "nbconvert_exporter": "python",
   "pygments_lexer": "ipython3",
   "version": "3.6.5"
  }
 },
 "nbformat": 4,
 "nbformat_minor": 2
}
