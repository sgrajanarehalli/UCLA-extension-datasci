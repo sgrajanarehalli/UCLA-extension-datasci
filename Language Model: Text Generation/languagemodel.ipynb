{
 "cells": [
  {
   "cell_type": "markdown",
   "metadata": {},
   "source": [
    "The bigrams function takes a filename as an argument and returns a nested dictionary that returns all the words that follow the key word in the input file, along with their frequencies"
   ]
  },
  {
   "cell_type": "code",
   "execution_count": 1,
   "metadata": {
    "ExecuteTime": {
     "end_time": "2018-06-18T03:38:17.537382Z",
     "start_time": "2018-06-18T03:38:17.515169Z"
    }
   },
   "outputs": [],
   "source": [
    "def bigrams(filename):\n",
    "    file = open(filename, \"r\")\n",
    "    text=file.read()\n",
    "    file.close()\n",
    "    text=text.replace(',',\"\")\n",
    "    text=text.lower()\n",
    "    sentences= text.split(\".\")\n",
    "  \n",
    "    bigrams=[]\n",
    "    for line in sentences:\n",
    "        sentence= line.split()\n",
    "        length=len(sentence)\n",
    "        index=0\n",
    "        while (index < length-1):\n",
    "            bigrams.append(\" \".join((sentence[index], sentence[index+1])))\n",
    "            index+=1\n",
    "    bigram_dict={}\n",
    "    for line in bigrams:\n",
    "        buffer=line.split()\n",
    "        if buffer[0] in bigram_dict:\n",
    "            bigram_dict[buffer[0]].append(buffer[1])\n",
    "        else: \n",
    "            bigram_dict.update({buffer[0]:[buffer[1]]})\n",
    "    for word in bigram_dict:\n",
    "        bigram_dict[word]={bigram_dict[word].count(x):x for x in bigram_dict[word]}\n",
    "        \n",
    "    return bigram_dict"
   ]
  },
  {
   "cell_type": "markdown",
   "metadata": {},
   "source": [
    "The following code prints a list of all the unique bigrams in the file."
   ]
  },
  {
   "cell_type": "code",
   "execution_count": 4,
   "metadata": {
    "ExecuteTime": {
     "end_time": "2018-06-18T03:38:55.205424Z",
     "start_time": "2018-06-18T03:38:55.195901Z"
    }
   },
   "outputs": [
    {
     "name": "stdout",
     "output_type": "stream",
     "text": [
      "this is\n",
      "is cat’s\n",
      "a cat\n",
      "cat kills\n",
      "cat likes\n",
      "that lisa\n",
      "lisa owns\n",
      "cat’s food\n",
      "the cat\n",
      "the tent\n",
      "likes it\n",
      "likes rats\n",
      "rats and\n",
      "eat bugs\n",
      "does not\n",
      "not like\n",
      "like bugs\n",
      "kills the\n",
      "cats rats\n",
      "and bugs\n",
      "bugs are\n",
      "are in\n",
      "in the\n"
     ]
    }
   ],
   "source": [
    "bigram_dict= bigrams(\"catcorpus.txt\")\n",
    "for word in bigram_dict:\n",
    "    for i in range(len(bigram_dict[word])):\n",
    "        print(word,list(bigram_dict[word].values())[i], sep=\" \")"
   ]
  },
  {
   "cell_type": "code",
   "execution_count": null,
   "metadata": {},
   "outputs": [],
   "source": []
  }
 ],
 "metadata": {
  "kernelspec": {
   "display_name": "Python 3",
   "language": "python",
   "name": "python3"
  },
  "language_info": {
   "codemirror_mode": {
    "name": "ipython",
    "version": 3
   },
   "file_extension": ".py",
   "mimetype": "text/x-python",
   "name": "python",
   "nbconvert_exporter": "python",
   "pygments_lexer": "ipython3",
   "version": "3.6.5"
  }
 },
 "nbformat": 4,
 "nbformat_minor": 2
}
